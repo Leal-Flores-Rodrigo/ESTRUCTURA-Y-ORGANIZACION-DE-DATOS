{
  "nbformat": 4,
  "nbformat_minor": 0,
  "metadata": {
    "colab": {
      "provenance": [],
      "authorship_tag": "ABX9TyNtv3A5MlS5qj3O7bENAw7B",
      "include_colab_link": true
    },
    "kernelspec": {
      "name": "python3",
      "display_name": "Python 3"
    },
    "language_info": {
      "name": "python"
    }
  },
  "cells": [
    {
      "cell_type": "markdown",
      "metadata": {
        "id": "view-in-github",
        "colab_type": "text"
      },
      "source": [
        "<a href=\"https://colab.research.google.com/github/Leal-Flores-Rodrigo/ESTRUCTURA-Y-ORGANIZACION-DE-DATOS/blob/main/texto_clase_12_09_23.ipynb\" target=\"_parent\"><img src=\"https://colab.research.google.com/assets/colab-badge.svg\" alt=\"Open In Colab\"/></a>"
      ]
    },
    {
      "cell_type": "code",
      "source": [
        "#creamos la clase node\n",
        "class node:\n",
        "  def __init__(self,data=None,next=None):\n",
        "    self.data=data\n",
        "    self.next=next\n",
        "\n",
        "\n",
        ""
      ],
      "metadata": {
        "id": "VtlLbDkfETbU"
      },
      "execution_count": null,
      "outputs": []
    },
    {
      "cell_type": "code",
      "source": [
        "#creamos la clase linked_list\n",
        "class linked_list:\n",
        "  def __init__(self):\n",
        "    self.head=None"
      ],
      "metadata": {
        "id": "7DVB84X6FYO9"
      },
      "execution_count": null,
      "outputs": []
    },
    {
      "cell_type": "code",
      "source": [
        "#metodo para agregar elementos en el frente de la lista\n",
        "  def add_at_front(self,data):\n",
        "    self.head=node(data=data,next=self.head)\n"
      ],
      "metadata": {
        "id": "tIKdJ4YHFiEk"
      },
      "execution_count": null,
      "outputs": []
    },
    {
      "cell_type": "code",
      "source": [
        "#metodo para verificar si la estructura de datos esta vacia\n",
        "  def is_empty(self):\n",
        "    return self.head==None\n",
        ""
      ],
      "metadata": {
        "id": "_QZ23sSuGIZL"
      },
      "execution_count": null,
      "outputs": []
    },
    {
      "cell_type": "code",
      "source": [
        "#metdod para agregar elementos al final de la lista\n",
        "  def add_at_end(self,data):\n",
        "    if not self.head:\n",
        "      self.head=node(data=data)\n",
        "      return\n",
        "    curr=self.head\n",
        "    while curr.next:\n",
        "      curr=curr.next\n",
        "    curr.next=node(data=data)"
      ],
      "metadata": {
        "id": "YHMAoTQAGcU8"
      },
      "execution_count": null,
      "outputs": []
    },
    {
      "cell_type": "code",
      "source": [
        "#metdod para eliminar nodos\n",
        "  def delete_node(self,key):\n",
        "    curr=self.head\n",
        "    prev=None\n",
        "    while curr and curr.data!=key:\n",
        "      prev =curr\n",
        "      curr=curr.next\n",
        "    if prev is None:\n",
        "      self.head=curr.next\n",
        "    elif curr:\n",
        "      prev.next=curr.next\n",
        "      curr.next=None\n"
      ],
      "metadata": {
        "id": "DymhJzhHHfFL"
      },
      "execution_count": null,
      "outputs": []
    },
    {
      "cell_type": "code",
      "source": [
        "# metdodo para obtener el utimo nodo\n",
        "  def gest_last_node(self):\n",
        "    tem=self.head\n",
        "    while (tem.next is not None):\n",
        "      tem=tem.next\n",
        "    return temm.data\n",
        ""
      ],
      "metadata": {
        "id": "buHmWvCwIru4"
      },
      "execution_count": null,
      "outputs": []
    },
    {
      "cell_type": "code",
      "source": [
        "metdo para imprimir la lista\n",
        "def print_list(self):\n",
        "  node=self.head\n",
        "  while node !=None:\n",
        "    print(node.data,end=\"=  \")\n",
        "    node=node.next\n",
        ""
      ],
      "metadata": {
        "id": "XZqURSsSJUoj"
      },
      "execution_count": null,
      "outputs": []
    },
    {
      "cell_type": "code",
      "source": [
        "s=linked_list()\n",
        "s.add_at_front(\"juan\")\n",
        "s.add_at_end(\"pedro\")\n",
        "s.add_at_front(\"luis\")\n",
        "s.print_list()"
      ],
      "metadata": {
        "colab": {
          "base_uri": "https://localhost:8080/"
        },
        "id": "mYSVjF9UJwR-",
        "outputId": "a01b4f11-59a8-45ce-eb2f-1729b20e4f78"
      },
      "execution_count": 5,
      "outputs": [
        {
          "output_type": "stream",
          "name": "stdout",
          "text": [
            "luis => juan => pedro => "
          ]
        }
      ]
    }
  ]
}