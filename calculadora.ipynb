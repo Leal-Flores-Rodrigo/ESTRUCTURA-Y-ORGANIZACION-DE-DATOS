{
  "nbformat": 4,
  "nbformat_minor": 0,
  "metadata": {
    "colab": {
      "provenance": [],
      "authorship_tag": "ABX9TyNQLhO6WiyuH3DQjJKPsjWW",
      "include_colab_link": true
    },
    "kernelspec": {
      "name": "python3",
      "display_name": "Python 3"
    },
    "language_info": {
      "name": "python"
    }
  },
  "cells": [
    {
      "cell_type": "markdown",
      "metadata": {
        "id": "view-in-github",
        "colab_type": "text"
      },
      "source": [
        "<a href=\"https://colab.research.google.com/github/Leal-Flores-Rodrigo/ESTRUCTURA-Y-ORGANIZACION-DE-DATOS/blob/main/calculadora.ipynb\" target=\"_parent\"><img src=\"https://colab.research.google.com/assets/colab-badge.svg\" alt=\"Open In Colab\"/></a>"
      ]
    },
    {
      "cell_type": "code",
      "execution_count": null,
      "metadata": {
        "id": "n3RXx4r0L_-z"
      },
      "outputs": [],
      "source": [
        "class Pila:\n",
        "    \"\"\"Representa una pila con operaciones de apilar, desapilar y verificar si está vacía.\"\"\"\n",
        "\n",
        "    def __init__(self):\n",
        "        \"\"\"Crea una pila vacía.\"\"\"\n",
        "\n",
        "        self.items = []\n",
        "\n",
        "    def apilar(self, x):\n",
        "        \"\"\"Agrega el elemento x a la pila.\"\"\"\n",
        "\n",
        "        self.items.append(x)\n",
        "\n",
        "    def desapilar(self):\n",
        "        \"\"\"Devuelve el elemento tope y lo elimina de la pila.\n",
        "        Si la pila está vacía levanta una excepción.\"\"\"\n",
        "        try:\n",
        "            return self.items.pop()\n",
        "        except IndexError:\n",
        "            raise ValueError(\"La pila está vacía\")\n",
        "\n",
        "    def es_vacia(self):\n",
        "        \"\"\"Devuelve True si la lista está vacía, False si no.\"\"\"\n",
        "        return self.items == []\n",
        "\n",
        "\n",
        "def calculadora_polaca(elementos):\n",
        "    \"\"\"Dada una lista de elementos que representan las componentes de\n",
        "    una expresión en notación polaca inversa, evalúa dicha expresión.\n",
        "    Si la expresión está mal formada, levanta ValueError.\"\"\"\n",
        "    p = Pila()\n",
        "    for elemento in elementos:\n",
        "        print(\"DEBUG:\", elemento)\n",
        "\n",
        "        try:\n",
        "            numero = float(elemento)\n",
        "            p.apilar(numero)\n",
        "            print(\"DEBUG: apila\", numero)\n",
        "\n",
        "        except ValueError:\n",
        "\n",
        "            if elemento not in \"+-*/%\" or len(elemento) != 1:\n",
        "                raise ValueError(\"Operando inválido\")\n",
        "\n",
        "            try:\n",
        "                a1 = p.desapilar()\n",
        "                print(\"DEBUG: desapila\", a1)\n",
        "                a2 = p.desapilar()\n",
        "                print(\"DEBUG: desapila\", a2)\n",
        "\n",
        "            except ValueError:\n",
        "                print(\"DEBUG: error pila faltan operandos\")\n",
        "                raise ValueError(\"Faltan operandos\")\n",
        "            if elemento == \"+\":\n",
        "                resultado = a2 + a1\n",
        "            elif elemento == \"-\":\n",
        "                resultado = a2 - a1\n",
        "            elif elemento == \"*\":\n",
        "                resultado = a2 * a1\n",
        "            elif elemento == \"/\":\n",
        "                resultado = a2 / a1\n",
        "            elif elemento == \"%\":\n",
        "                resultado = a2 % a1\n",
        "            print(\"DEBUG: apila\", resultado)\n",
        "            p.apilar(resultado)\n",
        "\n",
        "    res = p.desapilar()\n",
        "    if p.es_vacia():\n",
        "        return res\n",
        "    else:\n",
        "        print(\"DEBUG: error pila sobran operandos\")\n",
        "        raise ValueError(\"Sobran operandos\")\n",
        "\n",
        "\n",
        "def menu():\n",
        "    expresion = input(\"Ingrese la expresión a evaluar: \")\n",
        "    elementos = expresion.split()\n",
        "    print(calculadora_polaca(elementos))\n",
        "\n",
        "menu()"
      ]
    }
  ]
}