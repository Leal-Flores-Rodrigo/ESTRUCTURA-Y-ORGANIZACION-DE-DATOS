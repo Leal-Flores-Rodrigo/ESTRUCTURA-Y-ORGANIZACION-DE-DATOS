{
  "nbformat": 4,
  "nbformat_minor": 0,
  "metadata": {
    "colab": {
      "provenance": [],
      "authorship_tag": "ABX9TyMoidqMVCFpg32UO4C1GRvD",
      "include_colab_link": true
    },
    "kernelspec": {
      "name": "python3",
      "display_name": "Python 3"
    },
    "language_info": {
      "name": "python"
    }
  },
  "cells": [
    {
      "cell_type": "markdown",
      "metadata": {
        "id": "view-in-github",
        "colab_type": "text"
      },
      "source": [
        "<a href=\"https://colab.research.google.com/github/Leal-Flores-Rodrigo/ESTRUCTURA-Y-ORGANIZACION-DE-DATOS/blob/main/pila_ejercicio1.ipynb\" target=\"_parent\"><img src=\"https://colab.research.google.com/assets/colab-badge.svg\" alt=\"Open In Colab\"/></a>"
      ]
    },
    {
      "cell_type": "code",
      "execution_count": null,
      "metadata": {
        "colab": {
          "base_uri": "https://localhost:8080/"
        },
        "id": "CaH27mhSOA20",
        "outputId": "06831a2f-55c3-48a0-e401-b0fd572da847"
      },
      "outputs": [
        {
          "output_type": "stream",
          "name": "stdout",
          "text": [
            "\n",
            " Ingrese la opcion\n",
            "1.apilar\n",
            "2.desapilar  \n",
            "3.vaciar\n",
            "4.mostar\n",
            "5.salir\n",
            "Opción: 1\n",
            " dame un dato  numerico:   5\n",
            "¿Desea hacer otra opcion ? (s/n): s\n",
            "\n",
            " Ingrese la opcion\n",
            "1.apilar\n",
            "2.desapilar  \n",
            "3.vaciar\n",
            "4.mostar\n",
            "5.salir\n",
            "Opción: 4\n",
            "5\n"
          ]
        }
      ],
      "source": [
        "class pila :\n",
        "\n",
        "    def __init__(self):\n",
        "\n",
        "        self.itenms=[]\n",
        "\n",
        "    def apilar(self,x):\n",
        "        x=int(input(\" dame un dato  numerico:   \"))\n",
        "        self.itenms.append(x)\n",
        "\n",
        "    def desapilar(self):\n",
        "\n",
        "        try:\n",
        "            return self.itenms.pop()\n",
        "        except IndexError:\n",
        "            raise ValueError(\"la pila esta vacia\")\n",
        "\n",
        "    def es_vacia(self):\n",
        "        return self.itenms==[]\n",
        "\n",
        "    def imprimir(self):\n",
        "        for item in self.itenms:\n",
        "            print(str(item))\n",
        "\n",
        "\n",
        "pil=pila()\n",
        "def menu():\n",
        "\n",
        "            while True:\n",
        "                print(\"\\n Ingrese la opcion\")\n",
        "                print(\"1.apilar\")\n",
        "                print(\"2.desapilar  \")\n",
        "                print(\"3.vaciar\")\n",
        "                print(\"4.mostar\")\n",
        "                print(\"5.salir\")\n",
        "\n",
        "                opcion = int(input(\"Opción: \"))\n",
        "                if opcion==1:\n",
        "                    pil.apilar(0)\n",
        "\n",
        "                elif opcion==2:\n",
        "                    print(pil.desapilar())\n",
        "                elif opcion==3:\n",
        "                    if pil.es_vacia()==True:\n",
        "                        print(\"la pila se encuentra vacia\")\n",
        "                    else :\n",
        "                        print(\"la pila tiene valores\")\n",
        "\n",
        "\n",
        "                elif opcion==4:\n",
        "                    pil.imprimir()\n",
        "                else:\n",
        "                    break\n",
        "                resp=input(\"¿Desea hacer otra opcion ? (s/n): \")\n",
        "                if resp==\"s\":\n",
        "                    continue\n",
        "                else:\n",
        "                    break\n",
        "            print(\" ! GRACIAS !  \")\n",
        "\n",
        "menu()\n"
      ]
    }
  ]
}