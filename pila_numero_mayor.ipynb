{
  "nbformat": 4,
  "nbformat_minor": 0,
  "metadata": {
    "colab": {
      "provenance": [],
      "authorship_tag": "ABX9TyP1kLOxtf9ErdIAC6bqmeh2",
      "include_colab_link": true
    },
    "kernelspec": {
      "name": "python3",
      "display_name": "Python 3"
    },
    "language_info": {
      "name": "python"
    }
  },
  "cells": [
    {
      "cell_type": "markdown",
      "metadata": {
        "id": "view-in-github",
        "colab_type": "text"
      },
      "source": [
        "<a href=\"https://colab.research.google.com/github/Leal-Flores-Rodrigo/ESTRUCTURA-Y-ORGANIZACION-DE-DATOS/blob/main/pila_numero_mayor.ipynb\" target=\"_parent\"><img src=\"https://colab.research.google.com/assets/colab-badge.svg\" alt=\"Open In Colab\"/></a>"
      ]
    },
    {
      "cell_type": "code",
      "execution_count": null,
      "metadata": {
        "id": "eEsZecr1-XBO"
      },
      "outputs": [],
      "source": [
        "class pila :\n",
        "\n",
        "    def __init__(self):\n",
        "\n",
        "        self.itenms=[]\n",
        "\n",
        "    def apilar(self,x):\n",
        "\n",
        "      while True:\n",
        "        x=int(input(\" dame un dato  numerico:   \"))\n",
        "        if len(self.itenms) == 0 or x <=self.itenms[-1]:\n",
        "          self.itenms.append(x)\n",
        "          continue\n",
        "        else:\n",
        "          print(\"Es mayor el numero\")\n",
        "          break\n",
        "\n",
        "    def es_vacia(self):\n",
        "\n",
        "        try:\n",
        "            return self.itenms.pop()\n",
        "        except IndexError:\n",
        "            raise ValueError(\"la pila esta vacia\")\n",
        "\n",
        "    def imprimir(self):\n",
        "        for item in self.itenms:\n",
        "            print(str(item))\n",
        "\n",
        "\n",
        "pil=pila()\n",
        "def menu():\n",
        "\n",
        "            while True:\n",
        "                print(\"\\n Ingrese la opcion\")\n",
        "                print(\"1.apilar\")\n",
        "                print(\"2.vaciar\")\n",
        "                print(\"3.mostar\")\n",
        "                print(\"5.salir\")\n",
        "\n",
        "                opcion = int(input(\"Opción: \"))\n",
        "                if opcion==1:\n",
        "                    pil.apilar(0)\n",
        "\n",
        "\n",
        "                elif opcion==2:\n",
        "                        pil.es_vacia()\n",
        "\n",
        "                elif opcion==3:\n",
        "                    pil.imprimir()\n",
        "                else:\n",
        "                    break\n",
        "                resp=input(\"¿Desea hacer otra opcion ? (s/n): \")\n",
        "                if resp==\"s\":\n",
        "                    continue\n",
        "                else:\n",
        "                    break\n",
        "            print(\" ! GRACIAS !  \")\n",
        "\n",
        "menu()"
      ]
    }
  ]
}