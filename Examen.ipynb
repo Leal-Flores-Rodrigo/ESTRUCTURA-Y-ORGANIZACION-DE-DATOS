{
  "nbformat": 4,
  "nbformat_minor": 0,
  "metadata": {
    "colab": {
      "provenance": [],
      "authorship_tag": "ABX9TyPDQpNnViEBuCZC514dSsKa",
      "include_colab_link": true
    },
    "kernelspec": {
      "name": "python3",
      "display_name": "Python 3"
    },
    "language_info": {
      "name": "python"
    }
  },
  "cells": [
    {
      "cell_type": "markdown",
      "metadata": {
        "id": "view-in-github",
        "colab_type": "text"
      },
      "source": [
        "<a href=\"https://colab.research.google.com/github/Leal-Flores-Rodrigo/ESTRUCTURA-Y-ORGANIZACION-DE-DATOS/blob/main/Examen.ipynb\" target=\"_parent\"><img src=\"https://colab.research.google.com/assets/colab-badge.svg\" alt=\"Open In Colab\"/></a>"
      ]
    },
    {
      "cell_type": "code",
      "execution_count": 14,
      "metadata": {
        "colab": {
          "base_uri": "https://localhost:8080/"
        },
        "id": "sTnZ0z-ngqrO",
        "outputId": "13191564-4b35-412c-a280-1f3ce405d856"
      },
      "outputs": [
        {
          "output_type": "stream",
          "name": "stdout",
          "text": [
            "Arreglo en orden normal \n",
            "1 2 3 \n",
            "4 5 6 \n",
            "7 8 9 \n",
            "10 11 12 \n",
            "Arreglos en orden inverso:\n",
            "3 2 1 \n",
            "6 5 4 \n",
            "9 8 7 \n",
            "12 11 10 \n",
            "Arreglos en caracol\n",
            "1 2 3 \n",
            "[10, 11, 4]\n",
            "[9, 12, 5]\n",
            "[8, 7, 6]\n"
          ]
        }
      ],
      "source": [
        "def llenar_arreglo(arr, inicio, fin):\n",
        "    if inicio <= fin:\n",
        "        arr.append(inicio)\n",
        "        llenar_arreglo(arr, inicio + 1, fin)\n",
        "\n",
        "\n",
        "def imprimir_normal(arr):\n",
        "    for num in arr:\n",
        "        print(num, end=' ')\n",
        "    print()\n",
        "\n",
        "def imprimir_arreglo_inverso(arr):\n",
        "    arr.reverse()\n",
        "    for num in arr:\n",
        "        print(num, end=' ')\n",
        "    print()\n",
        "\n",
        "\n",
        "arreglo1 = []\n",
        "arreglo2 = []\n",
        "arreglo3 = []\n",
        "arreglo4 = []\n",
        "\n",
        "\n",
        "llenar_arreglo(arreglo1, 1, 3)\n",
        "llenar_arreglo(arreglo2, 4, 6)\n",
        "llenar_arreglo(arreglo3, 7, 9)\n",
        "llenar_arreglo(arreglo4, 10, 12)\n",
        "\n",
        "print(\"Arreglo en orden normal \")\n",
        "\n",
        "imprimir_normal(arreglo1)\n",
        "imprimir_normal(arreglo2)\n",
        "imprimir_normal(arreglo3)\n",
        "imprimir_normal(arreglo4)\n",
        "\n",
        "print(\"Arreglos en orden inverso:\")\n",
        "imprimir_arreglo_inverso(arreglo1)\n",
        "imprimir_arreglo_inverso(arreglo2)\n",
        "imprimir_arreglo_inverso(arreglo3)\n",
        "imprimir_arreglo_inverso(arreglo4)\n",
        "\n",
        "\n",
        "print(\"Arreglos en caracol\")\n",
        "arreglo2[0], arreglo2[1], arreglo2[2] = 10, 11, 4\n",
        "arreglo3[0], arreglo3[1], arreglo3[2] = 9, 12, 5\n",
        "arreglo4[0], arreglo4[1], arreglo4[2] = 8, 7, 6\n",
        "\n",
        "\n",
        "imprimir_arreglo_inverso(arreglo1)\n",
        "\n",
        "print(arreglo2)\n",
        "print(arreglo3)\n",
        "print(arreglo4)"
      ]
    }
  ]
}