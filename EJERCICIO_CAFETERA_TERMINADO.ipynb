{
  "nbformat": 4,
  "nbformat_minor": 0,
  "metadata": {
    "colab": {
      "provenance": [],
      "authorship_tag": "ABX9TyOvJD8GpGZaq/laZY4YIprn",
      "include_colab_link": true
    },
    "kernelspec": {
      "name": "python3",
      "display_name": "Python 3"
    },
    "language_info": {
      "name": "python"
    }
  },
  "cells": [
    {
      "cell_type": "markdown",
      "metadata": {
        "id": "view-in-github",
        "colab_type": "text"
      },
      "source": [
        "<a href=\"https://colab.research.google.com/github/Leal-Flores-Rodrigo/ESTRUCTURA-Y-ORGANIZACION-DE-DATOS/blob/main/EJERCICIO_CAFETERA_TERMINADO.ipynb\" target=\"_parent\"><img src=\"https://colab.research.google.com/assets/colab-badge.svg\" alt=\"Open In Colab\"/></a>"
      ]
    },
    {
      "cell_type": "code",
      "execution_count": 2,
      "metadata": {
        "colab": {
          "base_uri": "https://localhost:8080/"
        },
        "id": "NAu0h0d4t7VU",
        "outputId": "82a66180-5dfb-4e95-f5e3-de4491eb2a12"
      },
      "outputs": [
        {
          "name": "stdout",
          "output_type": "stream",
          "text": [
            "\n",
            " Ingrese la opcion\n",
            "1.Agregar alumno\n",
            "2.Asignar\n",
            "3.salir\n",
            "Opción: 1\n",
            "dame el nombre del alumno  juan\n",
            "¿Desea agregar otro alumno? (s/n): s\n",
            "dame el nombre del alumno  luis\n",
            "¿Desea agregar otro alumno? (s/n): n\n",
            "¿Desea hacer otra opcion ? (s/n): s\n",
            "\n",
            " Ingrese la opcion\n",
            "1.Agregar alumno\n",
            "2.Asignar\n",
            "3.salir\n",
            "Opción: 2\n",
            " juan : ALMORZO:PAN,Y DE TOMO  :CAFE\n",
            " luis : ALMORZO:TORTA,Y DE TOMO  :JUGO\n",
            "¿Desea hacer otra opcion ? (s/n): n\n"
          ]
        }
      ],
      "source": [
        "COMIDA=[]\n",
        "BEBIDA=[]\n",
        "ALUMNO=[]\n",
        "\n",
        "def comida():\n",
        "\n",
        "    com=[\"PAN\",\"TORTA\",\"SANDWUIC\",\"QUESADILLAS\",\"TACOS\"]\n",
        "    for i in com:\n",
        "        COMIDA.append(i)\n",
        "    return COMIDA\n",
        "\n",
        "def Bebida():\n",
        "\n",
        "    beb=[\"CAFE\",\"JUGO\",\"FRAPPE\",\"REFRESCO\",\"LECHE\"]\n",
        "    for i in beb:\n",
        "        BEBIDA.append(i)\n",
        "    return BEBIDA\n",
        "\n",
        "def llenar():\n",
        "\n",
        "    while True:\n",
        "        alumno=input(\"dame el nombre del alumno  \")\n",
        "        ALUMNO.append(alumno)\n",
        "        resp=input(\"¿Desea agregar otro alumno? (s/n): \")\n",
        "        if resp==\"s\" or resp ==\"S\":\n",
        "            continue\n",
        "        else:\n",
        "            break\n",
        "    return ALUMNO\n",
        "\n",
        "\n",
        "def asignar():\n",
        "\n",
        "    for alumnos,comidas ,bebidas in zip(ALUMNO,COMIDA,BEBIDA):\n",
        "        print(\" {0} : ALMORZO:{1},Y DE TOMO  :{2}\".format(alumnos,comidas,bebidas))\n",
        "\n",
        "    for i in range (len(ALUMNO)):\n",
        "        ALUMNO.pop()\n",
        "\n",
        "\n",
        "\n",
        "def menu():\n",
        "        comida()\n",
        "        Bebida()\n",
        "\n",
        "        while True:\n",
        "            print(\"\\n Ingrese la opcion\")\n",
        "            print(\"1.Agregar alumno\")\n",
        "            print(\"2.Asignar\")\n",
        "            print(\"3.salir\")\n",
        "\n",
        "            opcion = int(input(\"Opción: \"))\n",
        "            if opcion==1:\n",
        "\n",
        "              llenar()\n",
        "            elif opcion==2:\n",
        "                asignar()\n",
        "\n",
        "            else:\n",
        "                break\n",
        "            resp=input(\"¿Desea hacer otra opcion ? (s/n): \")\n",
        "            if resp==\"s\":\n",
        "                continue\n",
        "            else:\n",
        "                break\n",
        "        print(\" ! GRACIAS !  \")\n",
        "\n",
        "\n",
        "\n",
        "menu()\n"
      ]
    },
    {
      "cell_type": "code",
      "source": [],
      "metadata": {
        "id": "qvr1CKYGt8kQ"
      },
      "execution_count": null,
      "outputs": []
    }
  ]
}