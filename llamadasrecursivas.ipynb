{
  "nbformat": 4,
  "nbformat_minor": 0,
  "metadata": {
    "colab": {
      "provenance": [],
      "authorship_tag": "ABX9TyO1JraNxrJATNpPlVoifdbD",
      "include_colab_link": true
    },
    "kernelspec": {
      "name": "python3",
      "display_name": "Python 3"
    },
    "language_info": {
      "name": "python"
    }
  },
  "cells": [
    {
      "cell_type": "markdown",
      "metadata": {
        "id": "view-in-github",
        "colab_type": "text"
      },
      "source": [
        "<a href=\"https://colab.research.google.com/github/Leal-Flores-Rodrigo/ESTRUCTURA-Y-ORGANIZACION-DE-DATOS/blob/main/llamadasrecursivas.ipynb\" target=\"_parent\"><img src=\"https://colab.research.google.com/assets/colab-badge.svg\" alt=\"Open In Colab\"/></a>"
      ]
    },
    {
      "cell_type": "code",
      "execution_count": null,
      "metadata": {
        "colab": {
          "base_uri": "https://localhost:8080/"
        },
        "id": "xPKUZt1STnpJ",
        "outputId": "ab0ae897-b225-43db-d0c1-ee3d90b99d53"
      },
      "outputs": [
        {
          "output_type": "stream",
          "name": "stdout",
          "text": [
            "De que color es una naranja ---> a\n",
            "fallaste intentalo denuevo \n",
            "De que color es una naranja ---> jugo\n",
            "fallaste intentalo denuevo \n",
            "De que color es una naranja ---> naranja\n",
            "Ganaste\n"
          ]
        }
      ],
      "source": [
        "def jugar (intento=1):\n",
        "  respuesta=input(\"De que color es una naranja ---> \")\n",
        "  if respuesta !=\"naranja\":\n",
        "    if intento <3:\n",
        "      print(\"\\nfallaste intentalo denuevo \")\n",
        "      intento+=1\n",
        "      jugar(intento)\n",
        "    else:\n",
        "      print(\"perdiste \")\n",
        "  else:\n",
        "    print(\"Ganaste\")\n",
        "\n",
        "\n",
        "jugar()\n"
      ]
    },
    {
      "cell_type": "code",
      "source": [
        "def imprimir(x):\n",
        "  print(x)\n",
        "  imprimir(x-1)\n",
        "imprimir(5)"
      ],
      "metadata": {
        "id": "TXmJeOa0ZUZ0"
      },
      "execution_count": null,
      "outputs": []
    },
    {
      "cell_type": "code",
      "source": [
        "def imprimir(x):\n",
        "  if x >0:\n",
        "    print(x)\n",
        "    imprimir(x-1)\n",
        "imprimir(5)"
      ],
      "metadata": {
        "colab": {
          "base_uri": "https://localhost:8080/"
        },
        "id": "LNoq5osqaTeo",
        "outputId": "f2f9402b-157b-4f0f-e6e7-421fc4a005dd"
      },
      "execution_count": null,
      "outputs": [
        {
          "output_type": "stream",
          "name": "stdout",
          "text": [
            "5\n",
            "4\n",
            "3\n",
            "2\n",
            "1\n"
          ]
        }
      ]
    },
    {
      "cell_type": "code",
      "source": [
        "def imprimir(x):\n",
        "  if x >0:\n",
        "    imprimir(x-1)\n",
        "    print(x)\n",
        "\n",
        "imprimir(5)"
      ],
      "metadata": {
        "colab": {
          "base_uri": "https://localhost:8080/"
        },
        "id": "E4RSLsz2bZg7",
        "outputId": "4367b0ad-92f1-4ee6-e772-02b865e7fd46"
      },
      "execution_count": null,
      "outputs": [
        {
          "output_type": "stream",
          "name": "stdout",
          "text": [
            "1\n",
            "2\n",
            "3\n",
            "4\n",
            "5\n"
          ]
        }
      ]
    },
    {
      "cell_type": "code",
      "source": [
        "def factorial(fact):\n",
        "  if fact>0:\n",
        "    valor=fact*factorial(fact-1)\n",
        "    return valor\n",
        "  else:\n",
        "    return 1\n",
        "print(f\"El factorial de 4 es {factorial(4)}\")"
      ],
      "metadata": {
        "colab": {
          "base_uri": "https://localhost:8080/"
        },
        "id": "nK8DDOZ-escH",
        "outputId": "1cde7b85-19e7-4984-da8f-ca19e7bc575d"
      },
      "execution_count": null,
      "outputs": [
        {
          "output_type": "stream",
          "name": "stdout",
          "text": [
            "El factorial de 4 es 24\n"
          ]
        }
      ]
    },
    {
      "cell_type": "code",
      "source": [
        "def ordenar(lista,cant):\n",
        "  if cant>1:\n",
        "    for f in range (0,cant-1):\n",
        "      if lista[f]>lista[f+1]:\n",
        "        aux=lista[f]\n",
        "        lista[f]=lista[f + 1]\n",
        "\n",
        "        lista[f+1]=aux\n",
        "        ordenar(lista, cant - 1)\n",
        "datos=[60,44,22,33,2]\n",
        "print(datos)\n",
        "ordenar(datos, len(datos))\n",
        "print(datos)\n",
        "\n",
        "\n"
      ],
      "metadata": {
        "colab": {
          "base_uri": "https://localhost:8080/"
        },
        "id": "O941Hnwth2Sm",
        "outputId": "dfcef278-5d15-44c1-9a84-8e12c71beeee"
      },
      "execution_count": 41,
      "outputs": [
        {
          "output_type": "stream",
          "name": "stdout",
          "text": [
            "[60, 44, 22, 33, 2]\n",
            "[2, 22, 33, 44, 60]\n"
          ]
        }
      ]
    },
    {
      "cell_type": "code",
      "source": [
        "def ordenar(lista,cant):\n",
        "  if cant>1:\n",
        "    for f in range (0,cant-1):\n",
        "      if lista[f]<lista[f+1]:\n",
        "        aux=lista[f]\n",
        "        lista[f]=lista[f + 1]\n",
        "\n",
        "        lista[f+1]=aux\n",
        "        ordenar(lista, cant - 1)\n",
        "datos=[2,33,22,44,60,]\n",
        "print(datos)\n",
        "ordenar(datos, len(datos))\n",
        "print(datos)"
      ],
      "metadata": {
        "colab": {
          "base_uri": "https://localhost:8080/"
        },
        "id": "Ou0r4HV1nSgc",
        "outputId": "11fc7b25-c9bb-490f-e312-cc5c66d2eb79"
      },
      "execution_count": 42,
      "outputs": [
        {
          "output_type": "stream",
          "name": "stdout",
          "text": [
            "[2, 33, 22, 44, 60]\n",
            "[60, 44, 33, 22, 2]\n"
          ]
        }
      ]
    }
  ]
}