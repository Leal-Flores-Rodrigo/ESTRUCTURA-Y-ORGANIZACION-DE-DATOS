{
  "nbformat": 4,
  "nbformat_minor": 0,
  "metadata": {
    "colab": {
      "provenance": [],
      "authorship_tag": "ABX9TyN+pyqFaYKoikoFsN8Mpabs",
      "include_colab_link": true
    },
    "kernelspec": {
      "name": "python3",
      "display_name": "Python 3"
    },
    "language_info": {
      "name": "python"
    }
  },
  "cells": [
    {
      "cell_type": "markdown",
      "metadata": {
        "id": "view-in-github",
        "colab_type": "text"
      },
      "source": [
        "<a href=\"https://colab.research.google.com/github/Leal-Flores-Rodrigo/ESTRUCTURA-Y-ORGANIZACION-DE-DATOS/blob/main/practica_listas_enlazadas_29_09_23.ipynb\" target=\"_parent\"><img src=\"https://colab.research.google.com/assets/colab-badge.svg\" alt=\"Open In Colab\"/></a>"
      ]
    },
    {
      "cell_type": "code",
      "execution_count": 6,
      "metadata": {
        "colab": {
          "base_uri": "https://localhost:8080/"
        },
        "id": "tHRduWg-Zvm-",
        "outputId": "d8cd46bc-dd75-4dd7-b445-68ee08b998e3"
      },
      "outputs": [
        {
          "name": "stdout",
          "output_type": "stream",
          "text": [
            "1. agregar producto\n",
            "2.eliminar producto\n",
            "3.imprimir\n",
            "ingresa una opcion:  1\n",
            "Ingresa  el platillo a agregar: coca\n",
            "Desea realizar otra opcion (s/n):  s\n",
            "1. agregar producto\n",
            "2.eliminar producto\n",
            "3.imprimir\n",
            "ingresa una opcion:  3\n",
            "coca--->Desea realizar otra opcion (s/n):  n\n"
          ]
        }
      ],
      "source": [
        "class node:\n",
        "  def __init__(self, data=None, next=None):\n",
        "    self.data=data\n",
        "    self.next=next\n",
        "\n",
        "class linked_list:\n",
        "  def __init__(self):\n",
        "    self.head=None\n",
        "\n",
        "  def add_at_end(self, data):\n",
        "    if not self.head:\n",
        "        self.head = node(data=data)\n",
        "        return\n",
        "    curr = self.head\n",
        "    while curr.next:\n",
        "        curr = curr.next\n",
        "    curr.next = node(data=data)\n",
        "\n",
        "  def delete_node(self, key):\n",
        "    curr=self.head\n",
        "    prev=None\n",
        "    while curr and curr.data != key:\n",
        "      prev=curr\n",
        "      curr=curr.next\n",
        "    if prev is None:\n",
        "      self.head=curr.next\n",
        "    elif curr:\n",
        "      prev.next=curr.next\n",
        "      curr.next=None\n",
        "\n",
        "\n",
        "  def print_list(self):\n",
        "    node=self.head\n",
        "    while node != None:\n",
        "      print(node.data, end =\"--->\")\n",
        "      node=node.next\n",
        "\n",
        "  def menu(self ):\n",
        "    while True:\n",
        "      print(\"1. agregar producto\")\n",
        "      print(\"2.eliminar producto\")\n",
        "      print(\"3.imprimir\")\n",
        "      op=int(input(\"ingresa una opcion:  \"))\n",
        "      if op ==1:\n",
        "        b=input(\"Ingresa  el platillo a agregar: \")\n",
        "        a.add_at_end(b)\n",
        "      elif op ==2:\n",
        "\n",
        "        b=input(\"Ingresa el platillo a eliminar: \")\n",
        "        a.delete_node(b)\n",
        "      elif op ==3:\n",
        "        a.print_list()\n",
        "      resp=(input(\"Desea realizar otra opcion (s/n):  \"))\n",
        "      if resp ==\"s\":\n",
        "        continue\n",
        "      else:\n",
        "        break\n",
        "\n",
        "a=linked_list()\n",
        "a.menu()\n"
      ]
    }
  ]
}