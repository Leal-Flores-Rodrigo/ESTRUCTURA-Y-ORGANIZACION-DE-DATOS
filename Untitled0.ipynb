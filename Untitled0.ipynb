{
  "nbformat": 4,
  "nbformat_minor": 0,
  "metadata": {
    "colab": {
      "provenance": [],
      "authorship_tag": "ABX9TyO61SUbsdmshWucJLJoKu5w",
      "include_colab_link": true
    },
    "kernelspec": {
      "name": "python3",
      "display_name": "Python 3"
    },
    "language_info": {
      "name": "python"
    }
  },
  "cells": [
    {
      "cell_type": "markdown",
      "metadata": {
        "id": "view-in-github",
        "colab_type": "text"
      },
      "source": [
        "<a href=\"https://colab.research.google.com/github/Leal-Flores-Rodrigo/ESTRUCTURA-Y-ORGANIZACION-DE-DATOS/blob/main/Untitled0.ipynb\" target=\"_parent\"><img src=\"https://colab.research.google.com/assets/colab-badge.svg\" alt=\"Open In Colab\"/></a>"
      ]
    },
    {
      "cell_type": "code",
      "execution_count": 9,
      "metadata": {
        "id": "rIdL0T1tENSa"
      },
      "outputs": [],
      "source": []
    },
    {
      "cell_type": "markdown",
      "source": [
        "MI PRIMER PROGRAMA\n",
        "\n"
      ],
      "metadata": {
        "id": "lZ0yhLctEPoX"
      }
    },
    {
      "cell_type": "code",
      "source": [
        "nom=input(\" Escribe tu nombre \")\n",
        "\n",
        "print(\"Hola como estas \" ,nom)"
      ],
      "metadata": {
        "id": "GvLG5JVpHpr7"
      },
      "execution_count": null,
      "outputs": []
    },
    {
      "cell_type": "code",
      "source": [
        "edd=input(\" Escribe tu edad \")\n",
        "print(\"tu edad es de \",edd)"
      ],
      "metadata": {
        "id": "-dRG0H-VH4FC"
      },
      "execution_count": null,
      "outputs": []
    },
    {
      "cell_type": "code",
      "source": [
        "resp=\"s\"\n",
        "while resp ==\"s\" or resp==\"S\":\n",
        "  nom=input(\" Escribe tu nombre \")\n",
        "  edd=input(\" Escribe tu edad \")\n",
        "  print(\"Hola como estas \" ,nom,\"tu edad es de \",edd)\n",
        "\n",
        "  resp=input(\"quires registrar otro s/n   \")\n",
        "print(A)\n",
        "\n"
      ],
      "metadata": {
        "id": "dLVzl6c4EcKC"
      },
      "execution_count": null,
      "outputs": []
    },
    {
      "cell_type": "code",
      "source": [
        "resp=\"s\"\n",
        "A=[]\n",
        "per=0\n",
        "while resp ==\"s\" or resp==\"S\":\n",
        "\n",
        "  nom=input(\" Escribe tu nombre \")\n",
        "  edd=input(\" Escribe tu edad \")\n",
        "  print(\"Hola como estas \" ,nom,\"tu edad es de \",edd)\n",
        "  a=nom,edd\n",
        "  A.append(a)\n",
        "  per+=1\n",
        "  resp=input(\"quires registrar otro s/n   \")\n",
        "print(A)\n",
        "print(\"AGREGASTE  \",per,\"personas\")"
      ],
      "metadata": {
        "colab": {
          "base_uri": "https://localhost:8080/"
        },
        "id": "JwnKopOzRYsF",
        "outputId": "3f5c64f2-8031-4746-99a8-d4be8fdc8cf8"
      },
      "execution_count": 29,
      "outputs": [
        {
          "output_type": "stream",
          "name": "stdout",
          "text": [
            " Escribe tu nombre juan\n",
            " Escribe tu edad 34\n",
            "Hola como estas  juan tu edad es de  34\n",
            "quires registrar otro s/n   s\n",
            " Escribe tu nombre pedro\n",
            " Escribe tu edad 45\n",
            "Hola como estas  pedro tu edad es de  45\n",
            "quires registrar otro s/n   n\n",
            "[('juan', '34'), ('pedro', '45')]\n",
            "AGREGASTE   2 personas\n"
          ]
        }
      ]
    }
  ]
}