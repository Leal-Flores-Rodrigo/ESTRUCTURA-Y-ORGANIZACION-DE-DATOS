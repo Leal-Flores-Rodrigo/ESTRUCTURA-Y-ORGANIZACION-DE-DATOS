{
  "nbformat": 4,
  "nbformat_minor": 0,
  "metadata": {
    "colab": {
      "provenance": [],
      "authorship_tag": "ABX9TyPXz1YyEleybpqFdFtF8foX",
      "include_colab_link": true
    },
    "kernelspec": {
      "name": "python3",
      "display_name": "Python 3"
    },
    "language_info": {
      "name": "python"
    }
  },
  "cells": [
    {
      "cell_type": "markdown",
      "metadata": {
        "id": "view-in-github",
        "colab_type": "text"
      },
      "source": [
        "<a href=\"https://colab.research.google.com/github/Leal-Flores-Rodrigo/ESTRUCTURA-Y-ORGANIZACION-DE-DATOS/blob/main/Arboles_binario_17_10_23.ipynb\" target=\"_parent\"><img src=\"https://colab.research.google.com/assets/colab-badge.svg\" alt=\"Open In Colab\"/></a>"
      ]
    },
    {
      "cell_type": "code",
      "source": [
        "class Arbol(object):\n",
        "  def __init__(self):\n",
        "    self.der=None\n",
        "    self.izq=None\n",
        "    self.dato=None\n",
        "\n",
        "\n",
        "raiz=Arbol()\n",
        "raiz.dato=\"raiz\"\n",
        "raiz.izq=Arbol()\n",
        "raiz.izq.dato=\"izquierda\"\n",
        "raiz.der=Arbol()\n",
        "raiz.der.dato=\"derecha\"\n",
        "\n",
        "print(raiz.izq.dato)"
      ],
      "metadata": {
        "colab": {
          "base_uri": "https://localhost:8080/"
        },
        "id": "6aFrXXguUDbi",
        "outputId": "0168bfd6-ca9c-4405-9900-7c30a441ce09"
      },
      "execution_count": 12,
      "outputs": [
        {
          "output_type": "stream",
          "name": "stdout",
          "text": [
            "izquierda\n"
          ]
        }
      ]
    },
    {
      "cell_type": "code",
      "source": [
        "class Arbol(object):\n",
        "  def __init__(self):\n",
        "    self.der=None\n",
        "    self.izq=None\n",
        "    self.dato=None\n",
        "\n",
        "\n",
        "raiz=Arbol()\n",
        "raiz.dato=\"raiz\"\n",
        "raiz.izq=Arbol()\n",
        "raiz.izq.dato=\"izquierda\"\n",
        "raiz.der=Arbol()\n",
        "raiz.der.dato=\"derecha\"\n",
        "\n",
        "raiz.izq.izq=Arbol()\n",
        "raiz.izq.izq.dato=\"izquierda  2 \"\n",
        "raiz.izq.der=Arbol()\n",
        "raiz.izq.der.dato=\"izquierda - derecha\"\n",
        "\n",
        "print(raiz.dato)\n",
        "print(raiz.izq.dato)\n",
        "print(raiz.der.dato)\n",
        "print(raiz.izq.izq.dato)\n",
        "print(raiz.izq.der.dato)"
      ],
      "metadata": {
        "colab": {
          "base_uri": "https://localhost:8080/"
        },
        "id": "R_Cqt_0HWANi",
        "outputId": "bd5e0b3b-c5e1-49e5-dbf8-9d6386d58d5c"
      },
      "execution_count": 13,
      "outputs": [
        {
          "output_type": "stream",
          "name": "stdout",
          "text": [
            "raiz\n",
            "izquierda\n",
            "derecha\n",
            "izquierda  2 \n",
            "izquierda - derecha\n"
          ]
        }
      ]
    },
    {
      "cell_type": "code",
      "source": [
        "class Node:\n",
        "  def __init__(self, data):\n",
        "    self.left = None\n",
        "    self.right = None\n",
        "    self.data = data\n",
        "\n",
        "  def postorder(self,node):\n",
        "    if node:\n",
        "      self.postorder(node.left)\n",
        "      self.postorder(node.right)\n",
        "      print(node.data)\n",
        "\n",
        "\n",
        "root = Node(10)\n",
        "root.left = Node(14)\n",
        "root.right = Node(5)\n",
        "root.left.left = Node(21)\n",
        "root.left.right = Node(15)\n",
        "root.left.left.left = Node(40)\n",
        "root.left.left.right=Node(22)\n",
        "root.right.left = Node(25)\n",
        "root.right.right = Node(6)\n",
        "root.right.left.left = Node(35)\n",
        "root.right.left.right = Node(78)\n",
        "root.right.right.left = Node(90)\n",
        "root.right.right.right = Node(15)\n",
        "\n",
        "print(\"postorder\")\n",
        "root.postorder(root)"
      ],
      "metadata": {
        "colab": {
          "base_uri": "https://localhost:8080/"
        },
        "id": "saGA9KoYYq7W",
        "outputId": "35f41c81-b235-4e90-e986-1a3b15e63842"
      },
      "execution_count": 16,
      "outputs": [
        {
          "output_type": "stream",
          "name": "stdout",
          "text": [
            "postorder\n",
            "40\n",
            "22\n",
            "21\n",
            "15\n",
            "14\n",
            "35\n",
            "78\n",
            "25\n",
            "90\n",
            "15\n",
            "6\n",
            "5\n",
            "10\n"
          ]
        }
      ]
    },
    {
      "cell_type": "code",
      "source": [
        "# Clase del arbol binario\n",
        "class Nodo:\n",
        "    def __init__(self, value):\n",
        "        self.value = value\n",
        "        self.izq = None\n",
        "        self.der = None\n",
        "\n",
        "class aBinarios:\n",
        "    def __init__(self):\n",
        "        self.raiz = None\n",
        "\n",
        "    def agregar(self, elemento):\n",
        "        if self.raiz is None:\n",
        "            self.raiz = elemento\n",
        "        else:\n",
        "            aux = self.raiz\n",
        "            padre = None\n",
        "            while aux is not None:\n",
        "                padre = aux\n",
        "                if int(elemento.value) >= int(aux.value):\n",
        "                    aux = aux.der\n",
        "                else:\n",
        "                    aux = aux.izq\n",
        "            if int(elemento.value) >= int(padre.value):\n",
        "                padre.der = elemento\n",
        "            else:\n",
        "                padre.izq = elemento\n",
        "\n",
        "    def preorden(self, elemento):\n",
        "        if elemento is not None:\n",
        "            print(elemento.value)\n",
        "            self.preorden(elemento.izq)\n",
        "            self.preorden(elemento.der)\n",
        "\n",
        "    def postorden(self, elemento):\n",
        "        if elemento is not None:\n",
        "            self.postorden(elemento.izq)\n",
        "            self.postorden(elemento.der)\n",
        "            print(elemento.value)\n",
        "\n",
        "    def inorden(self, elemento):\n",
        "        if elemento is not None:\n",
        "            self.inorden(elemento.izq)\n",
        "            print(elemento.value)\n",
        "            self.inorden(elemento.der)\n",
        "\n",
        "    def getRaiz(self):\n",
        "        return self.raiz\n",
        "\n",
        "\n",
        "ab = aBinarios()\n",
        "while True:\n",
        "    # Opciones del menú\n",
        "    print(\"Arboles_Binarios\\n\" +\n",
        "          \"1. Agregar\\n\" +\n",
        "          \"2. Preorden\\n\" +\n",
        "          \"3. Postorden\\n\" +\n",
        "          \"4. Inorden\\n\" +\n",
        "          \"5. Salir\")\n",
        "    num = input(\"Ingrese la opción: \")\n",
        "    if num == \"1\":\n",
        "        value = input(\"Ingrese el valor: \")\n",
        "        nod = Nodo(value)\n",
        "        ab.agregar(nod)\n",
        "    elif num == \"2\":\n",
        "        print(\"Preorden\")\n",
        "        ab.preorden(ab.getRaiz())\n",
        "    elif num == \"3\":\n",
        "        print(\"Postorden\")\n",
        "        ab.postorden(ab.getRaiz())\n",
        "    elif num == \"4\":\n",
        "        print(\"Inorden\")\n",
        "        ab.inorden(ab.getRaiz())\n",
        "    elif num == \"5\":\n",
        "        break\n",
        "\n"
      ],
      "metadata": {
        "colab": {
          "base_uri": "https://localhost:8080/"
        },
        "id": "loESRd2GiB2V",
        "outputId": "85b065e7-6514-4f61-f249-40ee84a57a2f"
      },
      "execution_count": null,
      "outputs": [
        {
          "output_type": "stream",
          "name": "stdout",
          "text": [
            "Arboles_Binarios\n",
            "1. Agregar\n",
            "2. Preorden\n",
            "3. Postorden\n",
            "4. Inorden\n",
            "5. Salir\n"
          ]
        }
      ]
    }
  ]
}