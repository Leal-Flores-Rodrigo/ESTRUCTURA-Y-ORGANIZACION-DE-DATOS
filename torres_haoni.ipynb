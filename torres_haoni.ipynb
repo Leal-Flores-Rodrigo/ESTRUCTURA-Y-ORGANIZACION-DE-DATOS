{
  "nbformat": 4,
  "nbformat_minor": 0,
  "metadata": {
    "colab": {
      "provenance": [],
      "authorship_tag": "ABX9TyOdYcsOaFU3fAPg2177+GhR",
      "include_colab_link": true
    },
    "kernelspec": {
      "name": "python3",
      "display_name": "Python 3"
    },
    "language_info": {
      "name": "python"
    }
  },
  "cells": [
    {
      "cell_type": "markdown",
      "metadata": {
        "id": "view-in-github",
        "colab_type": "text"
      },
      "source": [
        "<a href=\"https://colab.research.google.com/github/Leal-Flores-Rodrigo/ESTRUCTURA-Y-ORGANIZACION-DE-DATOS/blob/main/torres_haoni.ipynb\" target=\"_parent\"><img src=\"https://colab.research.google.com/assets/colab-badge.svg\" alt=\"Open In Colab\"/></a>"
      ]
    },
    {
      "cell_type": "code",
      "execution_count": null,
      "metadata": {
        "id": "MW98vHSnbwAB"
      },
      "outputs": [],
      "source": [
        "\n",
        "def hanoi_con_reglas(n, origen, destino, auxiliar):\n",
        "    if n == 1:\n",
        "        mover_disco(origen, destino)\n",
        "    else:\n",
        "        hanoi_con_reglas(n - 1, origen, auxiliar, destino)\n",
        "        mover_disco(origen, destino)\n",
        "        hanoi_con_reglas(n - 1, auxiliar, destino, origen)\n",
        "\n",
        "def mover_disco(desde, hacia):\n",
        "    disco = torres[desde].pop()\n",
        "    if not torres[hacia] or disco < torres[hacia][-1]:\n",
        "        torres[hacia].append(disco)\n",
        "        print(f'Mover disco {disco} de {desde} a {hacia}')\n",
        "    else:\n",
        "        print(f'Error: Intento de mover disco {disco} de {desde} a {hacia} no permitido')\n",
        "\n",
        "\n",
        "\n",
        "torres = {'A': [10, 9, 8], 'B': [], 'C': []}\n",
        "\n",
        "hanoi_con_reglas(len(torres['A']), 'A', 'C', 'B')\n",
        "\n",
        "print(\"\\nEstado final de las torres:\")\n",
        "for torre, discos in torres.items():\n",
        "    print(f'Torre {torre}: {discos}')\n",
        "\n"
      ]
    }
  ]
}