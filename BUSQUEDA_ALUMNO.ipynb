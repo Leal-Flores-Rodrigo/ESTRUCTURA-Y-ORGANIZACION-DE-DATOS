{
  "nbformat": 4,
  "nbformat_minor": 0,
  "metadata": {
    "colab": {
      "provenance": [],
      "authorship_tag": "ABX9TyPzAr2Gl7WUsQgEgal93iXg",
      "include_colab_link": true
    },
    "kernelspec": {
      "name": "python3",
      "display_name": "Python 3"
    },
    "language_info": {
      "name": "python"
    }
  },
  "cells": [
    {
      "cell_type": "markdown",
      "metadata": {
        "id": "view-in-github",
        "colab_type": "text"
      },
      "source": [
        "<a href=\"https://colab.research.google.com/github/Leal-Flores-Rodrigo/ESTRUCTURA-Y-ORGANIZACION-DE-DATOS/blob/main/BUSQUEDA_ALUMNO.ipynb\" target=\"_parent\"><img src=\"https://colab.research.google.com/assets/colab-badge.svg\" alt=\"Open In Colab\"/></a>"
      ]
    },
    {
      "cell_type": "code",
      "execution_count": null,
      "metadata": {
        "id": "Ck2U6eHfZYEn"
      },
      "outputs": [],
      "source": [
        "class Alumno():\n",
        "\n",
        "    def __init__(self):\n",
        "        self.alumnos=[]\n",
        "\n",
        "\n",
        "    def llenar(self):\n",
        "\n",
        "        while True:\n",
        "            print(\"   BIENVENIDO  \")\n",
        "            alumno=input(\"dame el nombre del alumno  \")\n",
        "            carrera=input(\"Dame la carrera:  \")\n",
        "            sem=int(input(\"dame tu semestre: \"))\n",
        "            N_cont=int(input(\"dame tu numero de control: \"))\n",
        "            rfc=input(\"dame tu rfc:  \")\n",
        "\n",
        "\n",
        "            self.alumnos.append([alumno, carrera,sem, N_cont,rfc])\n",
        "\n",
        "            resp=input(\"¿Desea agregar otro alumno? (s/n): \")\n",
        "            if resp==\"s\":\n",
        "                continue\n",
        "            else:\n",
        "                break\n",
        "        return self.alumnos\n",
        "\n",
        "\n",
        "\n",
        "\n",
        "    def menu(self):\n",
        "\n",
        "        Alumno.llenar(self)\n",
        "        while True:\n",
        "            print(\"\\n Ingrese la opcion\")\n",
        "            print(\"1.lista de alumnos\")\n",
        "            print(\"2.carrera\")\n",
        "            print(\"3.nombre\")\n",
        "            print(\"4.semestre\")\n",
        "            print(\"5.salir\")\n",
        "            opcion = int(input(\"Opción: \"))\n",
        "            if opcion==1:\n",
        "                print(self.alumnos)\n",
        "            elif opcion==2:\n",
        "\n",
        "                carrera=input(\"  ingresa la carrera:  \")\n",
        "                filtro = [estudiante for estudiante in self.alumnos if estudiante[1] == carrera]\n",
        "                print(filtro)\n",
        "\n",
        "\n",
        "            elif opcion==3:\n",
        "\n",
        "                nombre=input(\"  ingresa el nombre: \")\n",
        "                filtro = [estudiante for estudiante in self.alumnos if estudiante[0] == nombre]\n",
        "                print(filtro)\n",
        "\n",
        "            elif opcion==4:\n",
        "\n",
        "                sem=(input(\"  ingresa el semestre:  \"))\n",
        "                filtro = [estudiante for estudiante in self.alumnos if estudiante[2] == sem]\n",
        "                print(filtro)\n",
        "\n",
        "            else:\n",
        "                break\n",
        "            resp=input(\"¿Desea hacer otra opcion ? (s/n): \")\n",
        "            if resp==\"s\":\n",
        "                continue\n",
        "            else:\n",
        "                break\n",
        "        print(\" ! GRACIAS !  \")\n",
        "\n",
        "Alumno().menu()\n"
      ]
    }
  ]
}