{
  "nbformat": 4,
  "nbformat_minor": 0,
  "metadata": {
    "colab": {
      "provenance": [],
      "authorship_tag": "ABX9TyN7YfYKqh57gxA1bToUzYz/",
      "include_colab_link": true
    },
    "kernelspec": {
      "name": "python3",
      "display_name": "Python 3"
    },
    "language_info": {
      "name": "python"
    }
  },
  "cells": [
    {
      "cell_type": "markdown",
      "metadata": {
        "id": "view-in-github",
        "colab_type": "text"
      },
      "source": [
        "<a href=\"https://colab.research.google.com/github/Leal-Flores-Rodrigo/ESTRUCTURA-Y-ORGANIZACION-DE-DATOS/blob/main/ALGORITMO_HANOI.ipynb\" target=\"_parent\"><img src=\"https://colab.research.google.com/assets/colab-badge.svg\" alt=\"Open In Colab\"/></a>"
      ]
    },
    {
      "cell_type": "code",
      "execution_count": 8,
      "metadata": {
        "colab": {
          "base_uri": "https://localhost:8080/"
        },
        "id": "RpG4YU9sXo8i",
        "outputId": "e227b13b-d9b0-4402-ff10-ab8035f80961"
      },
      "outputs": [
        {
          "output_type": "stream",
          "name": "stdout",
          "text": [
            "Mover disco 8 de A a C\n",
            "Mover disco 9 de A a B\n",
            "Mover disco 8 de C a B\n",
            "Mover disco 10 de A a C\n",
            "Mover disco 8 de B a A\n",
            "Mover disco 9 de B a C\n",
            "Mover disco 8 de A a C\n",
            "\n",
            "Estado final de las torres:\n",
            "Torre A: []\n",
            "Torre B: []\n",
            "Torre C: [10, 9, 8]\n"
          ]
        }
      ],
      "source": [
        "def hanoi_con_reglas(n, origen, destino, auxiliar):\n",
        "    if n == 1:\n",
        "        mover_disco(origen, destino)\n",
        "    else:\n",
        "        hanoi_con_reglas(n - 1, origen, auxiliar, destino)\n",
        "        mover_disco(origen, destino)\n",
        "        hanoi_con_reglas(n - 1, auxiliar, destino, origen)\n",
        "\n",
        "def mover_disco(desde, hacia):\n",
        "    disco = torres[desde].pop()\n",
        "    if not torres[hacia] or disco < torres[hacia][-1]:\n",
        "        torres[hacia].append(disco)\n",
        "        print(f'Mover disco {disco} de {desde} a {hacia}')\n",
        "    else:\n",
        "        print(f'Error: Intento de mover disco {disco} de {desde} a {hacia} no permitido')\n",
        "\n",
        "\n",
        "\n",
        "torres = {'A': [10, 9, 8], 'B': [], 'C': []}\n",
        "\n",
        "hanoi_con_reglas(len(torres['A']), 'A', 'C', 'B')\n",
        "\n",
        "print(\"\\nEstado final de las torres:\")\n",
        "for torre, discos in torres.items():\n",
        "    print(f'Torre {torre}: {discos}')"
      ]
    }
  ]
}