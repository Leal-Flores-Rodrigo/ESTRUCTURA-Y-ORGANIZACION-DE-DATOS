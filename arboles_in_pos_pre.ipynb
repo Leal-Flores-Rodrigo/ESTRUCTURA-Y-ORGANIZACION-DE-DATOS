{
  "nbformat": 4,
  "nbformat_minor": 0,
  "metadata": {
    "colab": {
      "provenance": [],
      "authorship_tag": "ABX9TyN2kb8e3/p8ic8LmWaqlMnk",
      "include_colab_link": true
    },
    "kernelspec": {
      "name": "python3",
      "display_name": "Python 3"
    },
    "language_info": {
      "name": "python"
    }
  },
  "cells": [
    {
      "cell_type": "markdown",
      "metadata": {
        "id": "view-in-github",
        "colab_type": "text"
      },
      "source": [
        "<a href=\"https://colab.research.google.com/github/Leal-Flores-Rodrigo/ESTRUCTURA-Y-ORGANIZACION-DE-DATOS/blob/main/arboles_in_pos_pre.ipynb\" target=\"_parent\"><img src=\"https://colab.research.google.com/assets/colab-badge.svg\" alt=\"Open In Colab\"/></a>"
      ]
    },
    {
      "cell_type": "code",
      "execution_count": 11,
      "metadata": {
        "colab": {
          "base_uri": "https://localhost:8080/"
        },
        "id": "fJC487IrLyhQ",
        "outputId": "5a991a66-4d75-44b1-bf7f-a9c046e12abd"
      },
      "outputs": [
        {
          "output_type": "stream",
          "name": "stdout",
          "text": [
            "preorder\n",
            "10\n",
            "34\n",
            "45\n",
            "50\n",
            "89\n",
            "inorder\n",
            "45\n",
            "34\n",
            "50\n",
            "10\n",
            "89\n",
            "postorder\n",
            "45\n",
            "50\n",
            "34\n",
            "89\n",
            "10\n"
          ]
        }
      ],
      "source": [
        "class Node:\n",
        "  def __init__(self, data):\n",
        "    self.left = None\n",
        "    self.right = None\n",
        "    self.data = data\n",
        "\n",
        "  def preorder(self,node):\n",
        "    if node:\n",
        "      print(node.data)\n",
        "      self.preorder(node.left)\n",
        "      self.preorder(node.right)\n",
        "\n",
        "  def inorder(self,node):\n",
        "    if node:\n",
        "      self.inorder(node.left)\n",
        "      print(node.data)\n",
        "      self.inorder(node.right)\n",
        "\n",
        "  def postorder(self,node):\n",
        "    if node:\n",
        "      self.postorder(node.left)\n",
        "      self.postorder(node.right)\n",
        "      print(node.data)\n",
        "\n",
        "root = Node(10)\n",
        "root.left = Node(34)\n",
        "root.right = Node(89)\n",
        "root.left.left = Node(45)\n",
        "root.left.right = Node(50)\n",
        "print(\"preorder\")\n",
        "root.preorder(root)\n",
        "print(\"inorder\")\n",
        "root.inorder(root)\n",
        "print(\"postorder\")\n",
        "root.postorder(root)"
      ]
    },
    {
      "cell_type": "code",
      "source": [
        "root = Node(\"juan\")\n",
        "root.left = Node(\"pedro\")\n",
        "root.right = Node(\"luis\")\n",
        "root.left.left = Node(\"erick\")\n",
        "root.left.right = Node(\"pepe\")\n",
        "print(\"\\n preorder\")\n",
        "root.preorder(root)\n",
        "print(\"\\n inorder\")\n",
        "root.inorder(root)\n",
        "print(\"\\n postorder\")\n",
        "root.postorder(root)"
      ],
      "metadata": {
        "colab": {
          "base_uri": "https://localhost:8080/"
        },
        "id": "g0ahgr0hVLgj",
        "outputId": "fe309056-c6ce-47e2-f2d8-0f926b9bc7cd"
      },
      "execution_count": 12,
      "outputs": [
        {
          "output_type": "stream",
          "name": "stdout",
          "text": [
            "\n",
            " preorder\n",
            "juan\n",
            "pedro\n",
            "erick\n",
            "pepe\n",
            "luis\n",
            "\n",
            " inorder\n",
            "erick\n",
            "pedro\n",
            "pepe\n",
            "juan\n",
            "luis\n",
            "\n",
            " postorder\n",
            "erick\n",
            "pepe\n",
            "pedro\n",
            "luis\n",
            "juan\n"
          ]
        }
      ]
    },
    {
      "cell_type": "code",
      "source": [],
      "metadata": {
        "id": "M7nIbCrta_Ro"
      },
      "execution_count": null,
      "outputs": []
    },
    {
      "cell_type": "code",
      "source": [],
      "metadata": {
        "id": "WkgjTeGUZjCE"
      },
      "execution_count": null,
      "outputs": []
    }
  ]
}