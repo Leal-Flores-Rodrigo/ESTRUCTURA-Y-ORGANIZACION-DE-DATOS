{
  "nbformat": 4,
  "nbformat_minor": 0,
  "metadata": {
    "colab": {
      "provenance": [],
      "authorship_tag": "ABX9TyNQ9G8wl7JrRiFoYohCYMHs",
      "include_colab_link": true
    },
    "kernelspec": {
      "name": "python3",
      "display_name": "Python 3"
    },
    "language_info": {
      "name": "python"
    }
  },
  "cells": [
    {
      "cell_type": "markdown",
      "metadata": {
        "id": "view-in-github",
        "colab_type": "text"
      },
      "source": [
        "<a href=\"https://colab.research.google.com/github/Leal-Flores-Rodrigo/ESTRUCTURA-Y-ORGANIZACION-DE-DATOS/blob/main/CAFETERIA.ipynb\" target=\"_parent\"><img src=\"https://colab.research.google.com/assets/colab-badge.svg\" alt=\"Open In Colab\"/></a>"
      ]
    },
    {
      "cell_type": "code",
      "source": [
        "COMIDA=[]\n",
        "BEBIDA=[]\n",
        "ALUMNO=[]\n",
        "\n",
        "def comida():\n",
        "\n",
        "    for i in range (1,6):\n",
        "\n",
        "        com=input(f\"dame la comida  {i}:  \")\n",
        "        COMIDA.append(com)\n",
        "\n",
        "    return COMIDA\n",
        "\n",
        "def Bebida():\n",
        "\n",
        "    for i in range (1,6):\n",
        "\n",
        "        beb=input(f\"dame la Bebida  {i}:  \")\n",
        "        BEBIDA.append(beb)\n",
        "\n",
        "    return COMIDA\n",
        "\n",
        "def llenar():\n",
        "\n",
        "        while True:\n",
        "            alumno=input(\"dame el nombre del alumno  \")\n",
        "            ALUMNO.append(alumno)\n",
        "            resp=input(\"¿Desea agregar otro alumno? (s/n): \")\n",
        "            if resp==\"s\":\n",
        "                continue\n",
        "            else:\n",
        "                break\n",
        "        return ALUMNO\n",
        "\n",
        "\n",
        "def asignar():\n",
        "\n",
        "  for alumnos,comidas ,bebidas in zip(ALUMNO,COMIDA,BEBIDA):\n",
        "    print(\" {0}  ALMORZO {1},Y DE TOMAR  :{2}\".format(alumnos,comidas,bebidas))\n",
        "\n",
        "\n",
        "\n",
        "    for i in range (len(ALUMNO)):\n",
        "        ALUMNO.pop(i)\n",
        "\n",
        "\n",
        "\n",
        "def menu():\n",
        "\n",
        "\n",
        "        while True:\n",
        "            print(\"\\n Ingrese la opcion\")\n",
        "            print(\"1.Agregar alumno\")\n",
        "            print(\"2.Asignar\")\n",
        "            print(\"3.salir\")\n",
        "\n",
        "            opcion = int(input(\"Opción: \"))\n",
        "            if opcion==1:\n",
        "\n",
        "              llenar()\n",
        "            elif opcion==2:\n",
        "                asignar()\n",
        "\n",
        "\n",
        "            else:\n",
        "                break\n",
        "            resp=input(\"¿Desea hacer otra opcion ? (s/n): \")\n",
        "            if resp==\"s\":\n",
        "                continue\n",
        "            else:\n",
        "                break\n",
        "print(\" ! GRACIAS !  \")\n",
        "\n",
        "\n",
        "comida()\n",
        "Bebida()\n",
        "menu()\n",
        "\n",
        ""
      ],
      "metadata": {
        "colab": {
          "base_uri": "https://localhost:8080/"
        },
        "id": "dJtu-tYlQyhO",
        "outputId": "2600a10e-7682-4532-d338-7ca5e59d1cac"
      },
      "execution_count": null,
      "outputs": [
        {
          "metadata": {
            "tags": null
          },
          "name": "stdout",
          "output_type": "stream",
          "text": [
            " ! GRACIAS !  \n",
            "\n",
            " Ingrese la opcion\n",
            "1.Agregar alumno\n",
            "2.Asignar\n",
            "3.salir\n",
            "\n",
            " Ingrese la opcion\n",
            "1.Agregar alumno\n",
            "2.Asignar\n",
            "3.salir\n",
            "\n",
            " Ingrese la opcion\n",
            "1.Agregar alumno\n",
            "2.Asignar\n",
            "3.salir\n",
            " ['juan']  ALMORZO PAN,Y DE TOMAR  :FRAPE\n"
          ]
        }
      ]
    }
  ]
}