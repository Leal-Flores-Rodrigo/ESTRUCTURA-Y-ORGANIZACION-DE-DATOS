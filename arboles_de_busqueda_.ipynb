{
  "nbformat": 4,
  "nbformat_minor": 0,
  "metadata": {
    "colab": {
      "provenance": [],
      "authorship_tag": "ABX9TyNA7i2WIMpaWaqgh4PprLLR",
      "include_colab_link": true
    },
    "kernelspec": {
      "name": "python3",
      "display_name": "Python 3"
    },
    "language_info": {
      "name": "python"
    }
  },
  "cells": [
    {
      "cell_type": "markdown",
      "metadata": {
        "id": "view-in-github",
        "colab_type": "text"
      },
      "source": [
        "<a href=\"https://colab.research.google.com/github/Leal-Flores-Rodrigo/ESTRUCTURA-Y-ORGANIZACION-DE-DATOS/blob/main/arboles_de_busqueda_.ipynb\" target=\"_parent\"><img src=\"https://colab.research.google.com/assets/colab-badge.svg\" alt=\"Open In Colab\"/></a>"
      ]
    },
    {
      "cell_type": "code",
      "execution_count": null,
      "metadata": {
        "id": "QETzO0vDpxL_"
      },
      "outputs": [],
      "source": [
        "class ArbolBinarioBusqueda():\n",
        "  def __init__(self):\n",
        "    self.raiz=None\n",
        "    self.tamaño=0\n",
        "\n",
        "  def longuitud(self):\n",
        "    return self.tamaño\n",
        "\n",
        "  def __len__(self):\n",
        "    return self.tamaño\n",
        "\n",
        "  def __iter__(self):\n",
        "    return self.raiz.__iter__()\n",
        "\n",
        "class NodoArbol():\n",
        "  def __init__ (self,clave,valor,izquierdo=None,derecho=None,padre=None):\n",
        "    self.calve=clave\n",
        "    self.cargaUtil=valor\n",
        "    self.hijoIzquierdo=izquierdo\n",
        "    self.hijoderecho=derecho\n",
        "    self.parder=padre\n",
        "\n",
        "  def tienehijoizquierdo(self):\n",
        "    return self.hijoIzquierdo\n",
        "\n",
        "  def tienehijiderecho(self):\n",
        "    return self.hijoderecho\n",
        "\n",
        "  def eshijoizquierdo(self):\n",
        "      return self.padre and self.padre.hijoIzquierdo==self\n",
        "\n",
        "  def eshijoderecho(self):\n",
        "      return self.padre and self.padre.hijoderecho==self\n",
        "\n",
        "  def esraiz(self):\n",
        "    return not self.padre\n",
        "\n",
        "  def esHoja(self):\n",
        "    return not (self.hijoderecho or self.hijoIzquierdo)\n",
        "\n",
        "  def tienealgunhijo(self):\n",
        "    return self.hijoderecho or self.hijoIzquierdo\n",
        "\n",
        "  def tieneamboshijos(self):\n",
        "    return self.hijoderecho and self.hijoIzquierdo\n",
        "\n",
        "  def remplazardatodenodo(self,clave,valor,hizq,hder):\n",
        "    self.clave=clave\n",
        "    self.cargaUtil=valor\n",
        "    self.hijoIzquierdo=hizq\n",
        "    self.hijodercho.hder\n",
        "\n",
        "    if self.tienehijoizquierdo():\n",
        "      self.hijoIzquierdo.padre=self\n",
        "\n",
        "    if self.tienehijiderecho():\n",
        "      self.hijiderecho.padre=self\n",
        "\n",
        "  def agregar(self,clave,valor)\n",
        "    if self.raiz:\n",
        "      self._agregar(clave,valor,self.raiz)\n",
        "    else:\n",
        "      self.raiz=NodoArbol(clave,valor)\n",
        "    self.tamaño =self.tamaño+1\n",
        "\n",
        "  def _agregar(self,clave,valor,nodoActual):\n",
        "    if clave < nodoActual.clave:\n",
        "      if nodoActual.tienehijoizquierdo():\n",
        "        self._agregar(clave,valor,nodoActual.hijoIzquierdo)\n",
        "      else:\n",
        "        nodoActual.hijoIzquierdo=NodoArbol(clave,valor,pader=nodoActual)\n",
        "    else:\n",
        "      if nodoActual.tienehijiderecho():\n",
        "        self._agregar(clave,valor,nodoActual.hijodercho)\n",
        "      else:\n",
        "        nodoActual.hijodercho=NodoArbol(clave,valorpadre=nodoActual)\n",
        "\n",
        "  def __setitem__(self,c,v):\n",
        "    self.agregar(c,v)\n",
        "\n",
        "\n",
        "\n",
        "\n",
        "\n"
      ]
    },
    {
      "cell_type": "code",
      "source": [
        "\n"
      ],
      "metadata": {
        "id": "v1QDqM6Bti7A"
      },
      "execution_count": null,
      "outputs": []
    }
  ]
}