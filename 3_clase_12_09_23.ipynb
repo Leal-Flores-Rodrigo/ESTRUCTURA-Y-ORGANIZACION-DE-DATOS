{
  "nbformat": 4,
  "nbformat_minor": 0,
  "metadata": {
    "colab": {
      "provenance": [],
      "authorship_tag": "ABX9TyMBeAgsjdxhXPOBrv5DySFu",
      "include_colab_link": true
    },
    "kernelspec": {
      "name": "python3",
      "display_name": "Python 3"
    },
    "language_info": {
      "name": "python"
    }
  },
  "cells": [
    {
      "cell_type": "markdown",
      "metadata": {
        "id": "view-in-github",
        "colab_type": "text"
      },
      "source": [
        "<a href=\"https://colab.research.google.com/github/Leal-Flores-Rodrigo/ESTRUCTURA-Y-ORGANIZACION-DE-DATOS/blob/main/3_clase_12_09_23.ipynb\" target=\"_parent\"><img src=\"https://colab.research.google.com/assets/colab-badge.svg\" alt=\"Open In Colab\"/></a>"
      ]
    },
    {
      "cell_type": "code",
      "source": [
        "#creamos la clase node\n",
        "class node:\n",
        "  def __init__(self,data=None,next=None):\n",
        "    self.data=data\n",
        "    self.next=next\n",
        "\n",
        "\n",
        ""
      ],
      "metadata": {
        "id": "VtlLbDkfETbU"
      },
      "execution_count": null,
      "outputs": []
    },
    {
      "cell_type": "code",
      "source": [
        "#creamos la clase linked_list\n",
        "class linked_list:\n",
        "  def __init__(self):\n",
        "    self.head=None"
      ],
      "metadata": {
        "id": "7DVB84X6FYO9"
      },
      "execution_count": null,
      "outputs": []
    },
    {
      "cell_type": "code",
      "source": [
        "#metodo para agregar elementos en el frente de la lista\n",
        "  def add_at_front(self,data):\n",
        "\n",
        "    self.head=node(data=data,next=self.head)\n"
      ],
      "metadata": {
        "id": "tIKdJ4YHFiEk"
      },
      "execution_count": null,
      "outputs": []
    },
    {
      "cell_type": "code",
      "source": [
        "#metodo para verificar si la estructura de datos esta vacia\n",
        "  def is_empty(self):\n",
        "    return self.head==None\n",
        ""
      ],
      "metadata": {
        "id": "_QZ23sSuGIZL"
      },
      "execution_count": null,
      "outputs": []
    },
    {
      "cell_type": "code",
      "source": [
        "#metdod para agregar elementos al final de la lista\n",
        "  def add_at_end(self,data):\n",
        "    if not self.head:\n",
        "      self.head=node(data=data)\n",
        "      return\n",
        "    curr=self.head\n",
        "    while curr.next:\n",
        "      curr=curr.next\n",
        "    curr.next=node(data=data)"
      ],
      "metadata": {
        "id": "YHMAoTQAGcU8"
      },
      "execution_count": null,
      "outputs": []
    },
    {
      "cell_type": "code",
      "source": [
        "#metdod para eliminar nodos\n",
        "  def delete_node(self,key):\n",
        "    curr=self.head\n",
        "    prev=None\n",
        "    while curr and curr.data!=key:\n",
        "      prev =curr\n",
        "      curr=curr.next\n",
        "    if prev is None:\n",
        "      self.head=curr.next\n",
        "    elif curr:\n",
        "      prev.next=curr.next\n",
        "      curr.next=None\n"
      ],
      "metadata": {
        "id": "DymhJzhHHfFL"
      },
      "execution_count": null,
      "outputs": []
    },
    {
      "cell_type": "code",
      "source": [
        "# metdodo para obtener el utimo nodo\n",
        "  def gest_last_node(self):\n",
        "    tem=self.head\n",
        "    while (tem.next is not None):\n",
        "      tem=tem.next\n",
        "    return temm.data\n",
        ""
      ],
      "metadata": {
        "id": "buHmWvCwIru4"
      },
      "execution_count": null,
      "outputs": []
    },
    {
      "cell_type": "code",
      "source": [
        "metdo para imprimir la lista\n",
        "def print_list(self):\n",
        "  node=self.head\n",
        "  while node !=None:\n",
        "    print(node.data,end=\"=  \")\n",
        "    node=node.next\n",
        ""
      ],
      "metadata": {
        "id": "XZqURSsSJUoj"
      },
      "execution_count": null,
      "outputs": []
    },
    {
      "cell_type": "code",
      "source": [
        "s=linked_list()\n",
        "s.add_at_front(\"juan\")\n",
        "s.add_at_end(\"pedro\")\n",
        "s.add_at_front(\"luis\")\n",
        "s.print_list()"
      ],
      "metadata": {
        "colab": {
          "base_uri": "https://localhost:8080/"
        },
        "id": "mYSVjF9UJwR-",
        "outputId": "4ed76b11-86ee-444b-fd0a-1ac67e98023a"
      },
      "execution_count": 7,
      "outputs": [
        {
          "output_type": "stream",
          "name": "stdout",
          "text": [
            "luis => juan => pedro => "
          ]
        }
      ]
    },
    {
      "cell_type": "code",
      "source": [
        "s=linked_list()\n",
        "s.add_at_front(8)\n",
        "s.add_at_end(6)\n",
        "s.add_at_front(9)\n",
        "s.print_list()"
      ],
      "metadata": {
        "colab": {
          "base_uri": "https://localhost:8080/"
        },
        "id": "8btxNFg1P_GR",
        "outputId": "71e5f0e1-09ac-415f-d40e-68ab28e3ff30"
      },
      "execution_count": 8,
      "outputs": [
        {
          "output_type": "stream",
          "name": "stdout",
          "text": [
            "9 => 8 => 6 => "
          ]
        }
      ]
    },
    {
      "cell_type": "code",
      "source": [
        "s=linked_list()\n",
        "\n",
        "lista=[2,4,6]\n",
        "s.add_at_front(lista)\n",
        "s.add_at_end(5)\n",
        "s.add_at_front(\"juan\")\n",
        "s.print_list()"
      ],
      "metadata": {
        "colab": {
          "base_uri": "https://localhost:8080/"
        },
        "id": "FcuWERp7Recx",
        "outputId": "11b101ff-9542-4b9c-d363-b3597b2c9c2e"
      },
      "execution_count": 27,
      "outputs": [
        {
          "output_type": "stream",
          "name": "stdout",
          "text": [
            "juan => [2, 4, 6] => 5 => "
          ]
        }
      ]
    }
  ]
}