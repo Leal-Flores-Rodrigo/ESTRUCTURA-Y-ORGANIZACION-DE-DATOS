{
  "nbformat": 4,
  "nbformat_minor": 0,
  "metadata": {
    "colab": {
      "provenance": [],
      "authorship_tag": "ABX9TyMqzUuf1EvpHZGiVqyAF6eS",
      "include_colab_link": true
    },
    "kernelspec": {
      "name": "python3",
      "display_name": "Python 3"
    },
    "language_info": {
      "name": "python"
    }
  },
  "cells": [
    {
      "cell_type": "markdown",
      "metadata": {
        "id": "view-in-github",
        "colab_type": "text"
      },
      "source": [
        "<a href=\"https://colab.research.google.com/github/Leal-Flores-Rodrigo/ESTRUCTURA-Y-ORGANIZACION-DE-DATOS/blob/main/CLASE2_LISTAS.ipynb\" target=\"_parent\"><img src=\"https://colab.research.google.com/assets/colab-badge.svg\" alt=\"Open In Colab\"/></a>"
      ]
    },
    {
      "cell_type": "code",
      "execution_count": 10,
      "metadata": {
        "colab": {
          "base_uri": "https://localhost:8080/"
        },
        "id": "Ee7R3W_dG-1L",
        "outputId": "0adea0cc-ebfc-40f1-d318-4b66c944ab00"
      },
      "outputs": [
        {
          "output_type": "stream",
          "name": "stdout",
          "text": [
            "Ingrese el valor para la posición 1 pan\n",
            "Ingrese el valor para la posición 2 huevo\n",
            "Ingrese el valor para la posición 3 100\n",
            "Ingrese el valor para la posición 4 1234\n",
            "Arreglo ['pan', 'huevo', '100', '1234']\n"
          ]
        }
      ],
      "source": [
        "#indice empieza en cero\n",
        "#tamaño del arreglo\n",
        "\n",
        "\n",
        "arreglo = []\n",
        "for i in range(4):\n",
        "      valor = (input(f\"Ingrese el valor para la posición {i+1} \"))\n",
        "      arreglo.append(valor)\n",
        "\n",
        "print(\"Arreglo\",arreglo)\n"
      ]
    },
    {
      "cell_type": "code",
      "source": [
        "factura=[\"pan\",\"huevo\",100,1234]\n",
        "print(factura[2])"
      ],
      "metadata": {
        "colab": {
          "base_uri": "https://localhost:8080/"
        },
        "id": "6Cyt18JeShXS",
        "outputId": "75e6e9c3-e475-438d-8a45-d6f8cf4f9244"
      },
      "execution_count": 19,
      "outputs": [
        {
          "output_type": "stream",
          "name": "stdout",
          "text": [
            "100\n"
          ]
        }
      ]
    },
    {
      "cell_type": "code",
      "source": [
        "factura=[\"pan\",\"huevo\",100,1234]\n",
        "print(factura[2])\n",
        "print(f\"tamaño del arreglo: \",len(factura))"
      ],
      "metadata": {
        "colab": {
          "base_uri": "https://localhost:8080/"
        },
        "id": "U9d_zHRlShZz",
        "outputId": "e761870e-3255-451b-c2bd-b84eac81d2f4"
      },
      "execution_count": 22,
      "outputs": [
        {
          "output_type": "stream",
          "name": "stdout",
          "text": [
            "100\n",
            "tamaño del arreglo:  4\n"
          ]
        }
      ]
    },
    {
      "cell_type": "code",
      "source": [
        "factura=[\"pan\",\"huevo\",100,1234]\n",
        "print(factura[-len (factura)])"
      ],
      "metadata": {
        "colab": {
          "base_uri": "https://localhost:8080/"
        },
        "id": "FH_YVcuaTvMX",
        "outputId": "b7ac306f-0609-41b8-bcd6-e24e8a0099aa"
      },
      "execution_count": 25,
      "outputs": [
        {
          "output_type": "stream",
          "name": "stdout",
          "text": [
            "pan\n"
          ]
        }
      ]
    },
    {
      "cell_type": "code",
      "source": [
        "factura[1]=\"carne\"\n",
        "factura\n"
      ],
      "metadata": {
        "colab": {
          "base_uri": "https://localhost:8080/"
        },
        "id": "9FUj-iiBUgFC",
        "outputId": "c479a204-56e2-49ae-82a5-66234f0d9c61"
      },
      "execution_count": 24,
      "outputs": [
        {
          "output_type": "execute_result",
          "data": {
            "text/plain": [
              "['pan', 'carne', 100, 1234]"
            ]
          },
          "metadata": {},
          "execution_count": 24
        }
      ]
    },
    {
      "cell_type": "code",
      "source": [
        "factura[2]=\"[pan,coca]\"\n",
        "factura\n"
      ],
      "metadata": {
        "colab": {
          "base_uri": "https://localhost:8080/"
        },
        "id": "GCmjMb01U_Wy",
        "outputId": "312cf266-e6ca-45ff-a510-9907e0a6620a"
      },
      "execution_count": 35,
      "outputs": [
        {
          "output_type": "execute_result",
          "data": {
            "text/plain": [
              "['pan', 'huevo', '[pan,coca]', 1234]"
            ]
          },
          "metadata": {},
          "execution_count": 35
        }
      ]
    },
    {
      "cell_type": "code",
      "source": [
        "version_plone=[2.5,3.6,4,5]\n",
        "print(version_plone)\n"
      ],
      "metadata": {
        "colab": {
          "base_uri": "https://localhost:8080/"
        },
        "id": "ul3t1GA1VsXu",
        "outputId": "be9c8a88-d18d-49af-9f75-f65c806b0739"
      },
      "execution_count": 49,
      "outputs": [
        {
          "output_type": "stream",
          "name": "stdout",
          "text": [
            "[2.5, 3.6, 4, 5]\n"
          ]
        }
      ]
    },
    {
      "cell_type": "code",
      "source": [
        "version_plone.append(6)\n",
        "print(version_plone)"
      ],
      "metadata": {
        "colab": {
          "base_uri": "https://localhost:8080/"
        },
        "id": "jqbgfNH_YIM7",
        "outputId": "2f427f58-4cbe-4eb2-f2b1-2e50fd6c905d"
      },
      "execution_count": 50,
      "outputs": [
        {
          "output_type": "stream",
          "name": "stdout",
          "text": [
            "[2.5, 3.6, 4, 5, 6]\n"
          ]
        }
      ]
    },
    {
      "cell_type": "code",
      "source": [
        "version_plone.append([3,5,4])\n",
        "print(version_plone)"
      ],
      "metadata": {
        "colab": {
          "base_uri": "https://localhost:8080/"
        },
        "id": "QSKiZno1YSeF",
        "outputId": "a229d60a-2287-460a-e1f0-9d49242d9a97"
      },
      "execution_count": 51,
      "outputs": [
        {
          "output_type": "stream",
          "name": "stdout",
          "text": [
            "[2.5, 3.6, 4, 5, 6, [3, 5, 4]]\n"
          ]
        }
      ]
    },
    {
      "cell_type": "code",
      "source": [
        "version_plone=[2.1,2.5,3.6,4,5,6]\n",
        "print(\"6: \",version_plone.count(6))\n",
        "print(\"5: \",version_plone.count(5))\n",
        "print(\"4: \",version_plone.count(4))"
      ],
      "metadata": {
        "colab": {
          "base_uri": "https://localhost:8080/"
        },
        "id": "qDH7PruMYepm",
        "outputId": "1f573011-7804-420b-92bc-ecea9f3b3b8b"
      },
      "execution_count": 53,
      "outputs": [
        {
          "output_type": "stream",
          "name": "stdout",
          "text": [
            "6:  1\n",
            "5:  1\n",
            "4:  1\n"
          ]
        }
      ]
    },
    {
      "cell_type": "code",
      "source": [
        "version_plone=[2.1,2.5,3.6]\n",
        "print(version_plone)\n"
      ],
      "metadata": {
        "colab": {
          "base_uri": "https://localhost:8080/"
        },
        "id": "uJdKpca9ZM57",
        "outputId": "e50b6960-6f09-47ea-d91f-2deefdaac8b7"
      },
      "execution_count": 54,
      "outputs": [
        {
          "output_type": "stream",
          "name": "stdout",
          "text": [
            "[2.1, 2.5, 3.6]\n"
          ]
        }
      ]
    },
    {
      "cell_type": "code",
      "source": [
        "version_plone.extend([4])\n",
        "print(version_plone)\n"
      ],
      "metadata": {
        "colab": {
          "base_uri": "https://localhost:8080/"
        },
        "id": "xh9DL7i4Zcdg",
        "outputId": "b7ef6da3-c909-4bbb-dc57-07ec342a6a38"
      },
      "execution_count": 55,
      "outputs": [
        {
          "output_type": "stream",
          "name": "stdout",
          "text": [
            "[2.1, 2.5, 3.6, 4]\n"
          ]
        }
      ]
    },
    {
      "cell_type": "code",
      "source": [
        "version_plone.extend(range(5,7))\n",
        "print(version_plone)"
      ],
      "metadata": {
        "colab": {
          "base_uri": "https://localhost:8080/"
        },
        "id": "rJDZNaQjZmZk",
        "outputId": "f661c9a8-8bdf-445c-84cc-e9b76984eefb"
      },
      "execution_count": 56,
      "outputs": [
        {
          "output_type": "stream",
          "name": "stdout",
          "text": [
            "[2.1, 2.5, 3.6, 4, 5, 6]\n"
          ]
        }
      ]
    },
    {
      "cell_type": "code",
      "source": [
        "version_plone.extend(range(5,10))\n",
        "print(version_plone)"
      ],
      "metadata": {
        "colab": {
          "base_uri": "https://localhost:8080/"
        },
        "id": "cXa6rXoSah2y",
        "outputId": "63de5349-4ffd-4602-8f64-0985e930ffdd"
      },
      "execution_count": 57,
      "outputs": [
        {
          "output_type": "stream",
          "name": "stdout",
          "text": [
            "[2.1, 2.5, 3.6, 4, 5, 6, 5, 6, 7, 8, 9]\n"
          ]
        }
      ]
    },
    {
      "cell_type": "code",
      "source": [
        "version_plone.extend(range(-5,7))\n",
        "print(version_plone)"
      ],
      "metadata": {
        "colab": {
          "base_uri": "https://localhost:8080/"
        },
        "id": "tmzDD2RZaucW",
        "outputId": "7502c285-c31c-4f14-d5e1-a1c6d2cbf157"
      },
      "execution_count": 58,
      "outputs": [
        {
          "output_type": "stream",
          "name": "stdout",
          "text": [
            "[2.1, 2.5, 3.6, 4, 5, 6, 5, 6, 7, 8, 9, -5, -4, -3, -2, -1, 0, 1, 2, 3, 4, 5, 6]\n"
          ]
        }
      ]
    }
  ]
}